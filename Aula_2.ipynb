{
  "nbformat": 4,
  "nbformat_minor": 0,
  "metadata": {
    "colab": {
      "provenance": [],
      "toc_visible": true,
      "authorship_tag": "ABX9TyNXKeONZ1Gf9E8tVWJcsl+g",
      "include_colab_link": true
    },
    "kernelspec": {
      "name": "python3",
      "display_name": "Python 3"
    },
    "language_info": {
      "name": "python"
    }
  },
  "cells": [
    {
      "cell_type": "markdown",
      "metadata": {
        "id": "view-in-github",
        "colab_type": "text"
      },
      "source": [
        "<a href=\"https://colab.research.google.com/github/Kakasposito/Marcus-Kaick-Da-Silva-Sp-sit/blob/master/Aula_2.ipynb\" target=\"_parent\"><img src=\"https://colab.research.google.com/assets/colab-badge.svg\" alt=\"Open In Colab\"/></a>"
      ]
    },
    {
      "cell_type": "markdown",
      "source": [
        "# Aula 2\n"
      ],
      "metadata": {
        "id": "SnwvUyRXAxmQ"
      }
    },
    {
      "cell_type": "code",
      "execution_count": null,
      "metadata": {
        "colab": {
          "base_uri": "https://localhost:8080/"
        },
        "id": "6jLrHaNA_hK2",
        "outputId": "83b8d14d-9eda-4cc8-ba95-f9efcab78514"
      },
      "outputs": [
        {
          "output_type": "stream",
          "name": "stdout",
          "text": [
            "10 Marcus 8.5 True\n"
          ]
        }
      ],
      "source": [
        "x = 10\n",
        "nome = 'Marcus'\n",
        "nota = 8.5\n",
        "fez_inscricao = True\n",
        "print(x, nome, nota, fez_inscricao)\n"
      ]
    }
  ]
}